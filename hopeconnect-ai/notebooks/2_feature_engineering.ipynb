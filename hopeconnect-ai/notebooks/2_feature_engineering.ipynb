{
 "cells": [
  {
   "cell_type": "markdown",
   "source": [
    "# 2. Feature Engineering\n",
    "Objective: Prepare features for model training, including handling missing values, encoding categoricals, creating new features."
   ]
  },
  {
   "cell_type": "code",
   "source": [
    "import pandas as pd\n",
    "import numpy as np\n",
    "sys.path.append('../src')\n",
    "from utils.data_loader import load_raw_data\n",
    "from prediction_models.feature_engineering import preprocess_for_viability_training\n",
    "\n",
    "df_raw = load_raw_data()\n",
    "df_raw.head()"
   ]
  },
  {
   "cell_type": "markdown",
   "source": [
    "## Handling Missing Values\n",
    "-(Strategy based on EDA: imputation, removal)"
   ]
  },
  {
   "cell_type": "code",
   "source": [
    "# Example: Impute 'donor_comorbidities' with median or 0 if appropriate\n",
    "# df_raw['donor_comorbidities'].fillna(df_raw['donor_comorbidities'].median(), inplace=True)"
   ]
  },
  {
   "cell_type": "markdown",
   "source": [
    "## Feature Creation\n",
    "- **HLA Mismatch Count:** Calculate from individual HLA columns.\n",
    "- Age difference, etc."
   ]
  },
  {
   "cell_type": "code",
   "source": [
    "# Example: HLA Mismatch (simplified for notebook)\n",
    "# This logic would be more robust in the actual preprocessor.py\n",
    "def simple_hla_mismatch(row):\n",
    "  mismatches = 0\n",
    "  if row['donor_hla_a1'] != row['recipient_hla_a1']: mismatches +=1\n",
    "  # ... and so on for other HLA pairs\n",
    "  return mismatches\n",
    "# df_raw['hla_mismatches_count'] = df_raw.apply(simple_hla_mismatch, axis=1)\n",
    "\n",
    "# (Actual HLA calculation is more complex and done in preprocessor for training)"
   ]
  },
  {
   "cell_type": "markdown",
   "source": [
    "## Encoding Categorical Features\n",
    "-(One-Hot Encoding, Label Encoding)"
   ]
  },
  {
   "cell_type": "markdown",
   "source": [
    "## Scaling Numerical Features\n",
    "-(StandardScaler, MinMaxScaler)"
   ]
  },
  {
   "cell_type": "markdown",
   "source": [
    "## Applying the Preprocessing Pipeline (from `feature_engineering.py`)"
   ]
  },
  {
   "cell_type": "code",
   "source": [
    "df_processed, preprocessor = preprocess_for_viability_training(df_raw.copy())\n",
    "print('Processed DataFrame:')\n",
    "df_processed.head()\n",
    "print('\\nPreprocessor object:')\n",
    "print(preprocessor)"
   ]
  },
  {
   "cell_type": "markdown",
   "source": [
    "## Save Processed Data (Optional)\n",
    "-(For quick loading in model development notebook)"
   ]
  },
  {
   "cell_type": "code",
   "source": [
    "from utils.data_loader import save_processed_data\n",
    "save_processed_data(df_processed, 'processed_for_viability_model.pkl')"
   ]
  }
 ],
 "metadata": { /* ... */ },
 "nbformat": 4,
 "nbformat_minor": 5
}